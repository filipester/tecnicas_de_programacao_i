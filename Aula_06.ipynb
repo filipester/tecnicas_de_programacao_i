{
 "cells": [
  {
   "cell_type": "markdown",
   "metadata": {},
   "source": [
    "### Exercícios Aula 6 - André Filipe Obenaus\n",
    "\n",
    "Faça a leitura do arquivo movies.csv\n",
    "column_names = ['color', 'director_name', 'num_critic_for_reviews', 'duration', 'gross', 'movie_title', 'num_user_for_reviews', 'country', 'cotent_rating', 'budget', 'title_year', 'imdb_score', 'genre']\n",
    "\n",
    "1. Qual o filme com o maior lucro?\n",
    "2. Qual o filme que deu o maior prejuízo\n",
    "3. Faça uma plotagem(gráfico) que mostre a distribuição do budget em relação ao ano do titulo(title_year)\n",
    "4. Uma plotagem do genero do filme.\n",
    "5. Quais os 10 melhores filmes(olha aí a lista de indicação do FDS)\n",
    "6. Qual o Genero mais popular e menos popular?\n",
    "7. Existe relação entre os melhores filme e seu Budget?\n",
    "8. Quem é o melhor diretor? Existe uma relação de custo associado ao melhor diretor? Ou seja, o melhor diretor baseado na sua analise é também o diretor que mais gasta?\n",
    "9. Mostre num gráfico a quantidade de filmes ao passar do ano"
   ]
  },
  {
   "cell_type": "code",
   "execution_count": 2,
   "metadata": {},
   "outputs": [],
   "source": [
    "import numpy as np\n",
    "import pandas as pd\n",
    "import matplotlib.pyplot as plt\n",
    "%matplotlib inline\n"
   ]
  },
  {
   "cell_type": "code",
   "execution_count": 6,
   "metadata": {},
   "outputs": [],
   "source": [
    "movies = pd.read_csv('../dados/movies.csv', header=None,\n",
    "                     names=['color',\n",
    "                            'director_name', 'num_critic_for_reviews', 'duration', 'gross',\n",
    "                            'movie_title', 'num_user_for_reviews', 'country', 'cotent_rating',\n",
    "                            'budget', 'title_year', 'imdb_score', 'genre'], delimiter='|')"
   ]
  },
  {
   "cell_type": "code",
   "execution_count": 8,
   "metadata": {},
   "outputs": [
    {
     "name": "stdout",
     "output_type": "stream",
     "text": [
      "<class 'pandas.core.frame.DataFrame'>\n",
      "RangeIndex: 100 entries, 0 to 99\n",
      "Data columns (total 13 columns):\n",
      " #   Column                  Non-Null Count  Dtype  \n",
      "---  ------                  --------------  -----  \n",
      " 0   color                   100 non-null    object \n",
      " 1   director_name           100 non-null    object \n",
      " 2   num_critic_for_reviews  100 non-null    object \n",
      " 3   duration                100 non-null    object \n",
      " 4   gross                   100 non-null    object \n",
      " 5   movie_title             100 non-null    object \n",
      " 6   num_user_for_reviews    100 non-null    object \n",
      " 7   country                 100 non-null    object \n",
      " 8   cotent_rating           100 non-null    object \n",
      " 9   budget                  100 non-null    object \n",
      " 10  title_year              100 non-null    object \n",
      " 11  imdb_score              100 non-null    float64\n",
      " 12  genre                   100 non-null    object \n",
      "dtypes: float64(1), object(12)\n",
      "memory usage: 10.3+ KB\n"
     ]
    }
   ],
   "source": [
    "movies.info()"
   ]
  },
  {
   "cell_type": "code",
   "execution_count": 11,
   "metadata": {},
   "outputs": [],
   "source": [
    "movies['budget'] = movies['budget'].str.replace(',', '')"
   ]
  },
  {
   "cell_type": "code",
   "execution_count": 12,
   "metadata": {},
   "outputs": [],
   "source": [
    "movies[['gross', 'budget', 'title_year']] = movies[['gross', 'budget', 'title_year']].replace('?', np.nan)"
   ]
  },
  {
   "cell_type": "code",
   "execution_count": 13,
   "metadata": {},
   "outputs": [],
   "source": [
    "movies['profit'] = movies['gross'].astype(float) - movies['budget'].astype(float)"
   ]
  },
  {
   "cell_type": "code",
   "execution_count": 25,
   "metadata": {},
   "outputs": [],
   "source": [
    "movies[['gross', 'budget']] = movies[['gross', 'budget']].astype(float).fillna(0).astype(int)\n",
    "movies['title_year'] = movies['title_year'].astype(float).fillna(0).astype(int)\n",
    "movies['profit'] = movies['gross'].astype(float) - movies['budget'].astype(float)"
   ]
  },
  {
   "cell_type": "code",
   "execution_count": 38,
   "metadata": {},
   "outputs": [
    {
     "name": "stdout",
     "output_type": "stream",
     "text": [
      "color                             Color\n",
      "director_name             James Cameron\n",
      "num_critic_for_reviews            723.0\n",
      "duration                          178.0\n",
      "gross                         760505847\n",
      "movie_title                     Avatar \n",
      "num_user_for_reviews             3054.0\n",
      "country                             USA\n",
      "cotent_rating                     PG-13\n",
      "budget                        237000000\n",
      "title_year                         2009\n",
      "imdb_score                          7.9\n",
      "genre                            Action\n",
      "profit                      523505847.0\n",
      "Name: 0, dtype: object\n"
     ]
    }
   ],
   "source": [
    "# 1 \n",
    "\n",
    "print(movies.iloc[movies['profit'].idxmax()])"
   ]
  },
  {
   "cell_type": "code",
   "execution_count": 39,
   "metadata": {},
   "outputs": [
    {
     "name": "stdout",
     "output_type": "stream",
     "text": [
      "color                              Color\n",
      "director_name             Andrew Stanton\n",
      "num_critic_for_reviews             462.0\n",
      "duration                           132.0\n",
      "gross                           73058679\n",
      "movie_title                 John Carter \n",
      "num_user_for_reviews               738.0\n",
      "country                              USA\n",
      "cotent_rating                      PG-13\n",
      "budget                         263700000\n",
      "title_year                          2012\n",
      "imdb_score                           6.6\n",
      "genre                             Action\n",
      "profit                      -190641321.0\n",
      "Name: 5, dtype: object\n"
     ]
    }
   ],
   "source": [
    "# 2\n",
    "\n",
    "print(movies.iloc[movies['profit'].idxmin()])"
   ]
  },
  {
   "cell_type": "code",
   "execution_count": 43,
   "metadata": {},
   "outputs": [
    {
     "data": {
      "image/png": "[encoded data removed]",
      "text/plain": [
       "<Figure size 1200x600 with 1 Axes>"
      ]
     },
     "metadata": {},
     "output_type": "display_data"
    }
   ],
   "source": [
    "# 3\n",
    "\n",
    "budget_per_year = movies.groupby('title_year')['budget'].sum()\n",
    "\n",
    "budget_per_year = budget_per_year.iloc[1:]\n",
    "\n",
    "# budget_per_year\n",
    "\n",
    "plt.figure(figsize=(12, 6))\n",
    "budget_per_year.plot(kind='bar', color='blue')\n",
    "plt.title('Orçamento por Ano')\n",
    "plt.xlabel('Ano de Lançamento')\n",
    "plt.ylabel('Orçamento')\n",
    "plt.xticks(rotation=0)\n",
    "plt.show()"
   ]
  },
  {
   "cell_type": "code",
   "execution_count": 44,
   "metadata": {},
   "outputs": [
    {
     "data": {
      "image/png": "[encoded data removed]",
      "text/plain": [
       "<Figure size 1200x600 with 1 Axes>"
      ]
     },
     "metadata": {},
     "output_type": "display_data"
    }
   ],
   "source": [
    "# 4\n",
    "\n",
    "# movies.value_counts('genre')\n",
    "\n",
    "plt.figure(figsize=(12, 6))\n",
    "movies.value_counts('genre').plot(kind='bar', color='blue')\n",
    "plt.title('Generos')\n",
    "plt.xlabel('Genero')\n",
    "plt.ylabel('Quantidade')\n",
    "plt.xticks(rotation=0)\n",
    "plt.show()\n"
   ]
  },
  {
   "cell_type": "code",
   "execution_count": 62,
   "metadata": {},
   "outputs": [
    {
     "data": {
      "text/html": [
       "<div>\n",
       "<style scoped>\n",
       "    .dataframe tbody tr th:only-of-type {\n",
       "        vertical-align: middle;\n",
       "    }\n",
       "\n",
       "    .dataframe tbody tr th {\n",
       "        vertical-align: top;\n",
       "    }\n",
       "\n",
       "    .dataframe thead th {\n",
       "        text-align: right;\n",
       "    }\n",
       "</style>\n",
       "<table border=\"1\" class=\"dataframe\">\n",
       "  <thead>\n",
       "    <tr style=\"text-align: right;\">\n",
       "      <th></th>\n",
       "      <th>color</th>\n",
       "      <th>director_name</th>\n",
       "      <th>num_critic_for_reviews</th>\n",
       "      <th>duration</th>\n",
       "      <th>gross</th>\n",
       "      <th>movie_title</th>\n",
       "      <th>num_user_for_reviews</th>\n",
       "      <th>country</th>\n",
       "      <th>cotent_rating</th>\n",
       "      <th>budget</th>\n",
       "      <th>title_year</th>\n",
       "      <th>imdb_score</th>\n",
       "      <th>genre</th>\n",
       "      <th>profit</th>\n",
       "    </tr>\n",
       "  </thead>\n",
       "  <tbody>\n",
       "    <tr>\n",
       "      <th>66</th>\n",
       "      <td>Color</td>\n",
       "      <td>Christopher Nolan</td>\n",
       "      <td>645.0</td>\n",
       "      <td>152.0</td>\n",
       "      <td>533316061</td>\n",
       "      <td>The Dark Knight</td>\n",
       "      <td>4667.0</td>\n",
       "      <td>USA</td>\n",
       "      <td>PG-13</td>\n",
       "      <td>185000000</td>\n",
       "      <td>2008</td>\n",
       "      <td>9.0</td>\n",
       "      <td>Action</td>\n",
       "      <td>348316061.0</td>\n",
       "    </tr>\n",
       "    <tr>\n",
       "      <th>97</th>\n",
       "      <td>Color</td>\n",
       "      <td>Christopher Nolan</td>\n",
       "      <td>642.0</td>\n",
       "      <td>148.0</td>\n",
       "      <td>292568851</td>\n",
       "      <td>Inception</td>\n",
       "      <td>2803.0</td>\n",
       "      <td>USA</td>\n",
       "      <td>PG-13</td>\n",
       "      <td>160000000</td>\n",
       "      <td>2010</td>\n",
       "      <td>8.8</td>\n",
       "      <td>Action</td>\n",
       "      <td>132568851.0</td>\n",
       "    </tr>\n",
       "    <tr>\n",
       "      <th>96</th>\n",
       "      <td>Color</td>\n",
       "      <td>Christopher Nolan</td>\n",
       "      <td>712.0</td>\n",
       "      <td>169.0</td>\n",
       "      <td>187991439</td>\n",
       "      <td>Interstellar</td>\n",
       "      <td>2725.0</td>\n",
       "      <td>USA</td>\n",
       "      <td>PG-13</td>\n",
       "      <td>165000000</td>\n",
       "      <td>2014</td>\n",
       "      <td>8.6</td>\n",
       "      <td>Adventure</td>\n",
       "      <td>22991439.0</td>\n",
       "    </tr>\n",
       "    <tr>\n",
       "      <th>3</th>\n",
       "      <td>Color</td>\n",
       "      <td>Christopher Nolan</td>\n",
       "      <td>813.0</td>\n",
       "      <td>164.0</td>\n",
       "      <td>448130642</td>\n",
       "      <td>The Dark Knight Rises</td>\n",
       "      <td>2701.0</td>\n",
       "      <td>USA</td>\n",
       "      <td>PG-13</td>\n",
       "      <td>250000000</td>\n",
       "      <td>2012</td>\n",
       "      <td>8.5</td>\n",
       "      <td>Action</td>\n",
       "      <td>198130642.0</td>\n",
       "    </tr>\n",
       "    <tr>\n",
       "      <th>58</th>\n",
       "      <td>Color</td>\n",
       "      <td>Andrew Stanton</td>\n",
       "      <td>421.0</td>\n",
       "      <td>98.0</td>\n",
       "      <td>223806889</td>\n",
       "      <td>WALL·E</td>\n",
       "      <td>1043.0</td>\n",
       "      <td>USA</td>\n",
       "      <td>G</td>\n",
       "      <td>180000000</td>\n",
       "      <td>2008</td>\n",
       "      <td>8.4</td>\n",
       "      <td>Adventure</td>\n",
       "      <td>43806889.0</td>\n",
       "    </tr>\n",
       "    <tr>\n",
       "      <th>43</th>\n",
       "      <td>Color</td>\n",
       "      <td>Lee Unkrich</td>\n",
       "      <td>453.0</td>\n",
       "      <td>103.0</td>\n",
       "      <td>414984497</td>\n",
       "      <td>Toy Story 3</td>\n",
       "      <td>733.0</td>\n",
       "      <td>USA</td>\n",
       "      <td>G</td>\n",
       "      <td>200000000</td>\n",
       "      <td>2010</td>\n",
       "      <td>8.3</td>\n",
       "      <td>Adventure</td>\n",
       "      <td>214984497.0</td>\n",
       "    </tr>\n",
       "    <tr>\n",
       "      <th>67</th>\n",
       "      <td>Color</td>\n",
       "      <td>Pete Docter</td>\n",
       "      <td>408.0</td>\n",
       "      <td>96.0</td>\n",
       "      <td>292979556</td>\n",
       "      <td>Up</td>\n",
       "      <td>704.0</td>\n",
       "      <td>USA</td>\n",
       "      <td>PG</td>\n",
       "      <td>175000000</td>\n",
       "      <td>2009</td>\n",
       "      <td>8.3</td>\n",
       "      <td>Adventure</td>\n",
       "      <td>117979556.0</td>\n",
       "    </tr>\n",
       "    <tr>\n",
       "      <th>78</th>\n",
       "      <td>Color</td>\n",
       "      <td>Pete Docter</td>\n",
       "      <td>536.0</td>\n",
       "      <td>95.0</td>\n",
       "      <td>356454367</td>\n",
       "      <td>Inside Out</td>\n",
       "      <td>773.0</td>\n",
       "      <td>USA</td>\n",
       "      <td>PG</td>\n",
       "      <td>175000000</td>\n",
       "      <td>2015</td>\n",
       "      <td>8.3</td>\n",
       "      <td>Adventure</td>\n",
       "      <td>181454367.0</td>\n",
       "    </tr>\n",
       "    <tr>\n",
       "      <th>27</th>\n",
       "      <td>Color</td>\n",
       "      <td>Anthony Russo</td>\n",
       "      <td>516.0</td>\n",
       "      <td>147.0</td>\n",
       "      <td>407197282</td>\n",
       "      <td>Captain America: Civil War</td>\n",
       "      <td>1022.0</td>\n",
       "      <td>USA</td>\n",
       "      <td>PG-13</td>\n",
       "      <td>250000000</td>\n",
       "      <td>2016</td>\n",
       "      <td>8.2</td>\n",
       "      <td>Action</td>\n",
       "      <td>157197282.0</td>\n",
       "    </tr>\n",
       "    <tr>\n",
       "      <th>93</th>\n",
       "      <td>Color</td>\n",
       "      <td>Dean DeBlois</td>\n",
       "      <td>288.0</td>\n",
       "      <td>98.0</td>\n",
       "      <td>217387997</td>\n",
       "      <td>How to Train Your Dragon</td>\n",
       "      <td>492.0</td>\n",
       "      <td>USA</td>\n",
       "      <td>PG</td>\n",
       "      <td>165000000</td>\n",
       "      <td>2010</td>\n",
       "      <td>8.2</td>\n",
       "      <td>Adventure</td>\n",
       "      <td>52387997.0</td>\n",
       "    </tr>\n",
       "  </tbody>\n",
       "</table>\n",
       "</div>"
      ],
      "text/plain": [
       "    color      director_name num_critic_for_reviews duration      gross  \\\n",
       "66  Color  Christopher Nolan                  645.0    152.0  533316061   \n",
       "97  Color  Christopher Nolan                  642.0    148.0  292568851   \n",
       "96  Color  Christopher Nolan                  712.0    169.0  187991439   \n",
       "3   Color  Christopher Nolan                  813.0    164.0  448130642   \n",
       "58  Color     Andrew Stanton                  421.0     98.0  223806889   \n",
       "43  Color        Lee Unkrich                  453.0    103.0  414984497   \n",
       "67  Color        Pete Docter                  408.0     96.0  292979556   \n",
       "78  Color        Pete Docter                  536.0     95.0  356454367   \n",
       "27  Color      Anthony Russo                  516.0    147.0  407197282   \n",
       "93  Color       Dean DeBlois                  288.0     98.0  217387997   \n",
       "\n",
       "                    movie_title num_user_for_reviews country cotent_rating  \\\n",
       "66             The Dark Knight                4667.0     USA         PG-13   \n",
       "97                   Inception                2803.0     USA         PG-13   \n",
       "96                Interstellar                2725.0     USA         PG-13   \n",
       "3        The Dark Knight Rises                2701.0     USA         PG-13   \n",
       "58                      WALL·E                1043.0     USA             G   \n",
       "43                 Toy Story 3                 733.0     USA             G   \n",
       "67                          Up                 704.0     USA            PG   \n",
       "78                  Inside Out                 773.0     USA            PG   \n",
       "27  Captain America: Civil War                1022.0     USA         PG-13   \n",
       "93    How to Train Your Dragon                 492.0     USA            PG   \n",
       "\n",
       "       budget  title_year  imdb_score      genre       profit  \n",
       "66  185000000        2008         9.0     Action  348316061.0  \n",
       "97  160000000        2010         8.8     Action  132568851.0  \n",
       "96  165000000        2014         8.6  Adventure   22991439.0  \n",
       "3   250000000        2012         8.5     Action  198130642.0  \n",
       "58  180000000        2008         8.4  Adventure   43806889.0  \n",
       "43  200000000        2010         8.3  Adventure  214984497.0  \n",
       "67  175000000        2009         8.3  Adventure  117979556.0  \n",
       "78  175000000        2015         8.3  Adventure  181454367.0  \n",
       "27  250000000        2016         8.2     Action  157197282.0  \n",
       "93  165000000        2010         8.2  Adventure   52387997.0  "
      ]
     },
     "execution_count": 62,
     "metadata": {},
     "output_type": "execute_result"
    }
   ],
   "source": [
    "# 5 - infelizmente já vi a maioria pra servir de sugestão hehehe\n",
    "\n",
    "movies.nlargest(10, columns='imdb_score')"
   ]
  },
  {
   "cell_type": "code",
   "execution_count": 68,
   "metadata": {},
   "outputs": [
    {
     "name": "stdout",
     "output_type": "stream",
     "text": [
      "genre\n",
      "Action         1102.814286\n",
      "Adventure       715.600000\n",
      "Animation       249.000000\n",
      "Comedy          257.000000\n",
      "Documentary       0.000000\n",
      "Drama          1640.500000\n",
      "Name: num_user_for_reviews, dtype: float64\n"
     ]
    }
   ],
   "source": [
    "# 6 - Aqui escolhi usar o número de reviews de usuário, porque a quantidade de filmes por genero já foi plotada na questão # 4\n",
    "\n",
    "movies['num_user_for_reviews'] = movies['num_user_for_reviews'].replace('?', np.nan)\n",
    "movies['num_user_for_reviews'] = movies['num_user_for_reviews'].astype(float).fillna(0).astype(int)\n",
    "\n",
    "\n",
    "# Resolvi fazer a média já que a participação dos filmes de ação na base é muito grande\n",
    "# resultando em que o genero mais popular na média de usuários fazendo review é Drama\n",
    "# e o menos popular é documentário\n",
    "\n",
    "print(movies.groupby('genre')['num_user_for_reviews'].mean())"
   ]
  },
  {
   "cell_type": "code",
   "execution_count": 73,
   "metadata": {},
   "outputs": [
    {
     "name": "stdout",
     "output_type": "stream",
     "text": [
      "O cálculo de correlação entre orçamento e score é: 0.09\n"
     ]
    }
   ],
   "source": [
    "# 7\n",
    "print(f'O cálculo de correlação entre orçamento e score é: {movies[\"budget\"].corr(movies[\"imdb_score\"]):.2f}')\n",
    "\n",
    "# parece que não está relacionado"
   ]
  },
  {
   "cell_type": "code",
   "execution_count": 99,
   "metadata": {},
   "outputs": [
    {
     "data": {
      "text/plain": [
       "director_name\n",
       "Christopher Nolan    8.725\n",
       "Lee Unkrich          8.300\n",
       "Pete Docter          8.300\n",
       "Hideaki Anno         8.200\n",
       "Dean DeBlois         8.200\n",
       "James Gunn           8.100\n",
       "Anthony Russo        8.000\n",
       "Doug Liman           7.900\n",
       "Don Hall             7.900\n",
       "James Cameron        7.800\n",
       "Name: imdb_score, dtype: float64"
      ]
     },
     "execution_count": 99,
     "metadata": {},
     "output_type": "execute_result"
    }
   ],
   "source": [
    "# 8\n",
    "\n",
    "# provávelmente existem meios de fazer melhor essa análise, mas eu fiz assim e não parece haver correlação entre ser bom diretor e orçamento alto demais\n",
    "\n",
    "movies.groupby('director_name')['imdb_score'].mean().sort_values(ascending=False).head(10)\n"
   ]
  },
  {
   "cell_type": "code",
   "execution_count": 100,
   "metadata": {},
   "outputs": [
    {
     "data": {
      "text/plain": [
       "director_name\n",
       "Nathan Greno      2.600000e+08\n",
       "Rob Marshall      2.500000e+08\n",
       "Gore Verbinski    2.466667e+08\n",
       "Zack Snyder       2.375000e+08\n",
       "Joss Whedon       2.350000e+08\n",
       "Sam Raimi         2.243333e+08\n",
       "Sam Mendes        2.225000e+08\n",
       "Andrew Stanton    2.218500e+08\n",
       "James Cameron     2.185000e+08\n",
       "Peter Jackson     2.155000e+08\n",
       "Name: budget, dtype: float64"
      ]
     },
     "execution_count": 100,
     "metadata": {},
     "output_type": "execute_result"
    }
   ],
   "source": [
    "movies.groupby('director_name')['budget'].mean().sort_values(ascending=False).head(10)"
   ]
  },
  {
   "cell_type": "code",
   "execution_count": 98,
   "metadata": {},
   "outputs": [
    {
     "data": {
      "image/png": "[encoded data removed]",
      "text/plain": [
       "<Figure size 1200x600 with 1 Axes>"
      ]
     },
     "metadata": {},
     "output_type": "display_data"
    }
   ],
   "source": [
    "# 9\n",
    "\n",
    "#movies.groupby('title_year').value_counts()\n",
    "\n",
    "plt.figure(figsize=(12, 6))\n",
    "movies.value_counts('title_year').sort_index().drop(0).plot(kind='bar', color='blue')\n",
    "plt.title('Filmes por Ano')\n",
    "plt.xlabel('Ano')\n",
    "plt.ylabel('Quantidade')\n",
    "plt.xticks(rotation=0)\n",
    "plt.show()"
   ]
  }
 ],
 "metadata": {
  "kernelspec": {
   "display_name": "Python 3",
   "language": "python",
   "name": "python3"
  },
  "language_info": {
   "codemirror_mode": {
    "name": "ipython",
    "version": 3
   },
   "file_extension": ".py",
   "mimetype": "text/x-python",
   "name": "python",
   "nbconvert_exporter": "python",
   "pygments_lexer": "ipython3",
   "version": "3.10.4"
  }
 },
 "nbformat": 4,
 "nbformat_minor": 2
}
