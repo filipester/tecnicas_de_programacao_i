{
 "cells": [
  {
   "cell_type": "markdown",
   "metadata": {},
   "source": [
    "### Exercícios aula 1\n",
    "1. De acordo com o array X = np.array([3, 5, 6, 7, 2, 3, 4, 9, 4]) faça a soma\n",
    "2. Faça a média\n",
    "3. Dada a matriz faça a soma das colunas X = np.array([ [1, 2, 3, 4], [5, 6, 7, 8], [9, 10, 11, 12], [13, 14, 15, 16] ])\n",
    "4. Faça a média das linhas\n",
    "5. Dado o array X = np.array([1, 2, 0, 4, 5, 6, 0, 0, 9, 10]) Mostre o elemento de maior valor"
   ]
  },
  {
   "cell_type": "code",
   "execution_count": 1,
   "metadata": {},
   "outputs": [],
   "source": [
    "import numpy as np\n",
    "\n",
    "# Inicializando os arrays\n",
    "arr_ex1 = np.array([3,5,6,7,2,3,4,9,4])\n",
    "mat_ex3 = np.array([[1,2,3,4], \n",
    "                    [5,6,7,8],\n",
    "                    [9,10,11,12],\n",
    "                    [13,14,15,16]])\n",
    "arr_ex5 = np.array([1,2,0,4,5,6,0,0,9,10])\n"
   ]
  },
  {
   "cell_type": "code",
   "execution_count": 3,
   "metadata": {},
   "outputs": [
    {
     "name": "stdout",
     "output_type": "stream",
     "text": [
      "A soma é: 43\n",
      "A média é: 4.78\n"
     ]
    }
   ],
   "source": [
    "# 1\n",
    "soma = sum(arr_ex1)\n",
    "print(f'A soma é: {soma}')\n",
    "\n",
    "# 2\n",
    "media = soma / len(arr_ex1)\n",
    "\n",
    "print(f'A média é: {media:.2f}')\n"
   ]
  },
  {
   "cell_type": "code",
   "execution_count": 9,
   "metadata": {},
   "outputs": [
    {
     "data": {
      "text/plain": [
       "'Soma das colunas: [28, 32, 36, 40]'"
      ]
     },
     "metadata": {},
     "output_type": "display_data"
    },
    {
     "data": {
      "text/plain": [
       "'Média das linhas: [2.5, 6.5, 10.5, 14.5]'"
      ]
     },
     "metadata": {},
     "output_type": "display_data"
    }
   ],
   "source": [
    "# 3\n",
    "soma_col = []\n",
    "for i in range(0, len(mat_ex3)):\n",
    "    soma_col.append(sum(mat_ex3.T[i])) # o exercício pede soma das colunas, por isso usei a transposta\n",
    "\n",
    "display(f'Soma das colunas: {soma_col}')\n",
    "\n",
    "# 4\n",
    "media_linhas = []\n",
    "\n",
    "for i in range(0, len(mat_ex3)):\n",
    "    media_linhas.append(sum(mat_ex3[i])/len(mat_ex3[i])) # o exercício pede média das linhas, usei as linhas originais\n",
    "\n",
    "display(f'Média das linhas: {media_linhas}')"
   ]
  },
  {
   "cell_type": "code",
   "execution_count": 6,
   "metadata": {},
   "outputs": [
    {
     "name": "stdout",
     "output_type": "stream",
     "text": [
      "O maior valor do vetor é 10\n"
     ]
    }
   ],
   "source": [
    "# 5\n",
    "\n",
    "print(f'O maior valor do vetor é {arr_ex5.max()}')"
   ]
  }
 ],
 "metadata": {
  "kernelspec": {
   "display_name": "Python 3",
   "language": "python",
   "name": "python3"
  },
  "language_info": {
   "codemirror_mode": {
    "name": "ipython",
    "version": 3
   },
   "file_extension": ".py",
   "mimetype": "text/x-python",
   "name": "python",
   "nbconvert_exporter": "python",
   "pygments_lexer": "ipython3",
   "version": "3.10.4"
  }
 },
 "nbformat": 4,
 "nbformat_minor": 2
}
