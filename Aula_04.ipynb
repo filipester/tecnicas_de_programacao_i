{
 "cells": [
  {
   "cell_type": "markdown",
   "metadata": {},
   "source": [
    "### Exercícios aula 4\n",
    "\n",
    "1. Crie uma Serie com elementos A, B, C e com os indexes primeiro, segundo, terceiro\n",
    "2. Agora mostre o primeiro elemento da Serie anterior\n",
    "3. Baseado na Serie X = pd.Series([1,2,3,4,5],\n",
    "       index=['first','second','third','forth','fifth'])\n",
    "       **Transforme** em float\n",
    "4. Mude a ordem da mesma Serie utilizada no Exercicio 3\n",
    "5. Organize os valores da Serie X = pd.Series([4,2,5,1,3],\n",
    "       index=['forth','second','fifth','first','third'])\n",
    "6. Add 5 para todos os elementos da Serie X = pd.Series([1,2,3,4,5])\n",
    "7. Crie uma máscara para mostrar somente elementos negativos X = pd.Series([-1,2,0,-4,5,6,0,0,-9,10])\n",
    "8. Colete todos os elementos negativos X = pd.Series([-1,2,0,-4,5,6,0,0,-9,10])"
   ]
  },
  {
   "cell_type": "code",
   "execution_count": 1,
   "metadata": {},
   "outputs": [],
   "source": [
    "import pandas as pd\n",
    "import numpy as np"
   ]
  },
  {
   "cell_type": "code",
   "execution_count": null,
   "metadata": {},
   "outputs": [],
   "source": [
    "# 1\n",
    "serie_1 = pd.series(['A', 'B', 'C'])"
   ]
  }
 ],
 "metadata": {
  "kernelspec": {
   "display_name": "Python 3",
   "language": "python",
   "name": "python3"
  },
  "language_info": {
   "codemirror_mode": {
    "name": "ipython",
    "version": 3
   },
   "file_extension": ".py",
   "mimetype": "text/x-python",
   "name": "python",
   "nbconvert_exporter": "python",
   "pygments_lexer": "ipython3",
   "version": "3.10.4"
  }
 },
 "nbformat": 4,
 "nbformat_minor": 2
}
